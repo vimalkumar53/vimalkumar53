{
 "cells": [
  {
   "cell_type": "markdown",
   "id": "146c097e",
   "metadata": {},
   "source": [
    " python program to find whether a number is prime or composite."
   ]
  },
  {
   "cell_type": "code",
   "execution_count": 17,
   "id": "3a624c2c",
   "metadata": {},
   "outputs": [
    {
     "name": "stdout",
     "output_type": "stream",
     "text": [
      "Enter The Number2\n"
     ]
    }
   ],
   "source": [
    "number = int(input(\"Enter The Number\"))"
   ]
  },
  {
   "cell_type": "code",
   "execution_count": 14,
   "id": "141fbf42",
   "metadata": {},
   "outputs": [],
   "source": [
    "if number > 1:\n",
    "    for i in range(2,int(number/2)+1):\n",
    "        if (number % i == 0):\n",
    "            print(number, \"is not a Prime Number\")\n",
    "            break"
   ]
  },
  {
   "cell_type": "code",
   "execution_count": null,
   "id": "13aef63e",
   "metadata": {},
   "outputs": [],
   "source": [
    "else:\n",
    "     print(number,\"is a Prime number\")"
   ]
  }
 ],
 "metadata": {
  "kernelspec": {
   "display_name": "Python 3",
   "language": "python",
   "name": "python3"
  },
  "language_info": {
   "codemirror_mode": {
    "name": "ipython",
    "version": 3
   },
   "file_extension": ".py",
   "mimetype": "text/x-python",
   "name": "python",
   "nbconvert_exporter": "python",
   "pygments_lexer": "ipython3",
   "version": "3.8.8"
  }
 },
 "nbformat": 4,
 "nbformat_minor": 5
}
