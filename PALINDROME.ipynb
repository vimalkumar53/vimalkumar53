{
 "cells": [
  {
   "cell_type": "markdown",
   "id": "c88459cb",
   "metadata": {},
   "source": [
    " Program to check if a string is palindrome or not"
   ]
  },
  {
   "cell_type": "code",
   "execution_count": null,
   "id": "2e556e8b",
   "metadata": {},
   "outputs": [],
   "source": []
  },
  {
   "cell_type": "code",
   "execution_count": 31,
   "id": "a6150719",
   "metadata": {},
   "outputs": [
    {
     "name": "stdout",
     "output_type": "stream",
     "text": [
      "Enter a number:1\n"
     ]
    }
   ],
   "source": [
    "num=int(input(\"Enter a number:\"))"
   ]
  },
  {
   "cell_type": "code",
   "execution_count": 22,
   "id": "8a804d98",
   "metadata": {},
   "outputs": [],
   "source": [
    "temp=num"
   ]
  },
  {
   "cell_type": "code",
   "execution_count": 25,
   "id": "4535d244",
   "metadata": {},
   "outputs": [],
   "source": [
    "rev=0"
   ]
  },
  {
   "cell_type": "code",
   "execution_count": 26,
   "id": "b60da8b1",
   "metadata": {},
   "outputs": [],
   "source": [
    "while(num>0):\n",
    "    dig=num%10\n",
    "    rev=rev*10+dig\n",
    "    num=num//10"
   ]
  },
  {
   "cell_type": "code",
   "execution_count": 29,
   "id": "a00336ec",
   "metadata": {},
   "outputs": [],
   "source": [
    "if(temp==rev):\n",
    "    print(\"The number is palindrome!\")"
   ]
  },
  {
   "cell_type": "code",
   "execution_count": 32,
   "id": "edf8084e",
   "metadata": {},
   "outputs": [
    {
     "ename": "SyntaxError",
     "evalue": "invalid syntax (<ipython-input-32-94919c3c24eb>, line 1)",
     "output_type": "error",
     "traceback": [
      "\u001b[1;36m  File \u001b[1;32m\"<ipython-input-32-94919c3c24eb>\"\u001b[1;36m, line \u001b[1;32m1\u001b[0m\n\u001b[1;33m    else:\u001b[0m\n\u001b[1;37m    ^\u001b[0m\n\u001b[1;31mSyntaxError\u001b[0m\u001b[1;31m:\u001b[0m invalid syntax\n"
     ]
    }
   ],
   "source": [
    "else:\n",
    "    print(\"Not a palindrome!\")"
   ]
  },
  {
   "cell_type": "code",
   "execution_count": null,
   "id": "dac439e9",
   "metadata": {},
   "outputs": [],
   "source": []
  }
 ],
 "metadata": {
  "kernelspec": {
   "display_name": "Python 3",
   "language": "python",
   "name": "python3"
  },
  "language_info": {
   "codemirror_mode": {
    "name": "ipython",
    "version": 3
   },
   "file_extension": ".py",
   "mimetype": "text/x-python",
   "name": "python",
   "nbconvert_exporter": "python",
   "pygments_lexer": "ipython3",
   "version": "3.8.8"
  }
 },
 "nbformat": 4,
 "nbformat_minor": 5
}
