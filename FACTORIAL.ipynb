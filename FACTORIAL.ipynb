{
 "cells": [
  {
   "cell_type": "markdown",
   "id": "993c22fd",
   "metadata": {},
   "source": [
    "Python program to find the factorial\n"
   ]
  },
  {
   "cell_type": "code",
   "execution_count": 11,
   "id": "f60c00c1",
   "metadata": {},
   "outputs": [],
   "source": [
    "import math  \n",
    "\n"
   ]
  },
  {
   "cell_type": "code",
   "execution_count": 12,
   "id": "675c1e61",
   "metadata": {},
   "outputs": [],
   "source": [
    "def fact(n):\n",
    "       return(math.factorial(n))  "
   ]
  },
  {
   "cell_type": "code",
   "execution_count": 13,
   "id": "44fbb43a",
   "metadata": {},
   "outputs": [
    {
     "name": "stdout",
     "output_type": "stream",
     "text": [
      "Enter the number:4\n"
     ]
    }
   ],
   "source": [
    "num = int(input(\"Enter the number:\"))  "
   ]
  },
  {
   "cell_type": "code",
   "execution_count": 14,
   "id": "4bc0ad03",
   "metadata": {},
   "outputs": [],
   "source": [
    "f = fact(num) "
   ]
  },
  {
   "cell_type": "code",
   "execution_count": 15,
   "id": "a79340b4",
   "metadata": {},
   "outputs": [
    {
     "name": "stdout",
     "output_type": "stream",
     "text": [
      "Factorial of 4 is 24\n"
     ]
    }
   ],
   "source": [
    "print(\"Factorial of\", num, \"is\", f)"
   ]
  },
  {
   "cell_type": "code",
   "execution_count": null,
   "id": "d94be2c4",
   "metadata": {},
   "outputs": [],
   "source": []
  }
 ],
 "metadata": {
  "kernelspec": {
   "display_name": "Python 3",
   "language": "python",
   "name": "python3"
  },
  "language_info": {
   "codemirror_mode": {
    "name": "ipython",
    "version": 3
   },
   "file_extension": ".py",
   "mimetype": "text/x-python",
   "name": "python",
   "nbconvert_exporter": "python",
   "pygments_lexer": "ipython3",
   "version": "3.8.8"
  }
 },
 "nbformat": 4,
 "nbformat_minor": 5
}
